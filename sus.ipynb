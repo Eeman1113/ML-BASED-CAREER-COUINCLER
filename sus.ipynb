{
 "cells": [
  {
   "cell_type": "code",
   "execution_count": 3,
   "metadata": {},
   "outputs": [
    {
     "name": "stdout",
     "output_type": "stream",
     "text": [
      "Requirement already satisfied: openai in /Library/Frameworks/Python.framework/Versions/3.10/lib/python3.10/site-packages (0.25.0)\n",
      "Requirement already satisfied: pandas-stubs>=1.1.0.11 in /Library/Frameworks/Python.framework/Versions/3.10/lib/python3.10/site-packages (from openai) (1.5.2.221213)\n",
      "Requirement already satisfied: tqdm in /Library/Frameworks/Python.framework/Versions/3.10/lib/python3.10/site-packages (from openai) (4.64.1)\n",
      "Requirement already satisfied: typing-extensions in /Library/Frameworks/Python.framework/Versions/3.10/lib/python3.10/site-packages (from openai) (4.4.0)\n",
      "Requirement already satisfied: requests>=2.20 in /Library/Frameworks/Python.framework/Versions/3.10/lib/python3.10/site-packages (from openai) (2.28.1)\n",
      "Requirement already satisfied: numpy in /Library/Frameworks/Python.framework/Versions/3.10/lib/python3.10/site-packages (from openai) (1.22.1)\n",
      "Requirement already satisfied: pandas>=1.2.3 in /Library/Frameworks/Python.framework/Versions/3.10/lib/python3.10/site-packages (from openai) (1.5.2)\n",
      "Requirement already satisfied: openpyxl>=3.0.7 in /Library/Frameworks/Python.framework/Versions/3.10/lib/python3.10/site-packages (from openai) (3.0.10)\n",
      "Requirement already satisfied: et-xmlfile in /Library/Frameworks/Python.framework/Versions/3.10/lib/python3.10/site-packages (from openpyxl>=3.0.7->openai) (1.1.0)\n",
      "Requirement already satisfied: pytz>=2020.1 in /Library/Frameworks/Python.framework/Versions/3.10/lib/python3.10/site-packages (from pandas>=1.2.3->openai) (2022.7)\n",
      "Requirement already satisfied: python-dateutil>=2.8.1 in /Users/eemanmajumder/Library/Python/3.10/lib/python/site-packages (from pandas>=1.2.3->openai) (2.8.2)\n",
      "Requirement already satisfied: types-pytz>=2022.1.1 in /Library/Frameworks/Python.framework/Versions/3.10/lib/python3.10/site-packages (from pandas-stubs>=1.1.0.11->openai) (2022.7.0.0)\n",
      "Requirement already satisfied: idna<4,>=2.5 in /Library/Frameworks/Python.framework/Versions/3.10/lib/python3.10/site-packages (from requests>=2.20->openai) (3.4)\n",
      "Requirement already satisfied: charset-normalizer<3,>=2 in /Library/Frameworks/Python.framework/Versions/3.10/lib/python3.10/site-packages (from requests>=2.20->openai) (2.1.1)\n",
      "Requirement already satisfied: certifi>=2017.4.17 in /Library/Frameworks/Python.framework/Versions/3.10/lib/python3.10/site-packages (from requests>=2.20->openai) (2022.12.7)\n",
      "Requirement already satisfied: urllib3<1.27,>=1.21.1 in /Library/Frameworks/Python.framework/Versions/3.10/lib/python3.10/site-packages (from requests>=2.20->openai) (1.26.13)\n",
      "Requirement already satisfied: six>=1.5 in /Users/eemanmajumder/Library/Python/3.10/lib/python/site-packages (from python-dateutil>=2.8.1->pandas>=1.2.3->openai) (1.16.0)\n",
      "\u001b[33mWARNING: You are using pip version 21.3.1; however, version 23.0.1 is available.\n",
      "You should consider upgrading via the '/Library/Frameworks/Python.framework/Versions/3.10/bin/python3.10 -m pip install --upgrade pip' command.\u001b[0m\n",
      "Collecting streamlit\n",
      "  Using cached streamlit-1.18.1-py2.py3-none-any.whl (9.6 MB)\n",
      "Collecting altair>=3.2.0\n",
      "  Downloading altair-4.2.2-py3-none-any.whl (813 kB)\n",
      "     |████████████████████████████████| 813 kB 396 kB/s            \n",
      "\u001b[?25hCollecting gitpython!=3.1.19\n",
      "  Downloading GitPython-3.1.31-py3-none-any.whl (184 kB)\n",
      "     |████████████████████████████████| 184 kB 1.5 MB/s            \n",
      "\u001b[?25hRequirement already satisfied: requests>=2.4 in /Library/Frameworks/Python.framework/Versions/3.10/lib/python3.10/site-packages (from streamlit) (2.28.1)\n",
      "Collecting toml\n",
      "  Using cached toml-0.10.2-py2.py3-none-any.whl (16 kB)\n",
      "Requirement already satisfied: python-dateutil in /Users/eemanmajumder/Library/Python/3.10/lib/python/site-packages (from streamlit) (2.8.2)\n",
      "Collecting protobuf<4,>=3.12\n",
      "  Downloading protobuf-3.20.3-py2.py3-none-any.whl (162 kB)\n",
      "     |████████████████████████████████| 162 kB 870 kB/s            \n",
      "\u001b[?25hRequirement already satisfied: pandas>=0.25 in /Library/Frameworks/Python.framework/Versions/3.10/lib/python3.10/site-packages (from streamlit) (1.5.2)\n",
      "Collecting click>=7.0\n",
      "  Using cached click-8.1.3-py3-none-any.whl (96 kB)\n",
      "Collecting validators>=0.2\n",
      "  Using cached validators-0.20.0.tar.gz (30 kB)\n",
      "  Preparing metadata (setup.py) ... \u001b[?25ldone\n",
      "\u001b[?25hRequirement already satisfied: numpy in /Library/Frameworks/Python.framework/Versions/3.10/lib/python3.10/site-packages (from streamlit) (1.22.1)\n",
      "Collecting importlib-metadata>=1.4\n",
      "  Downloading importlib_metadata-6.0.0-py3-none-any.whl (21 kB)\n",
      "Collecting pympler>=0.9\n",
      "  Using cached Pympler-1.0.1-py3-none-any.whl (164 kB)\n",
      "Collecting semver\n",
      "  Using cached semver-2.13.0-py2.py3-none-any.whl (12 kB)\n",
      "Collecting pyarrow>=4.0\n",
      "  Downloading pyarrow-11.0.0-cp310-cp310-macosx_11_0_arm64.whl (22.4 MB)\n",
      "     |████████████████████████████████| 22.4 MB 1.3 MB/s            \n",
      "\u001b[?25hRequirement already satisfied: tornado>=6.0.3 in /Users/eemanmajumder/Library/Python/3.10/lib/python/site-packages (from streamlit) (6.2)\n",
      "Collecting pillow>=6.2.0\n",
      "  Downloading Pillow-9.4.0-cp310-cp310-macosx_11_0_arm64.whl (3.0 MB)\n",
      "     |████████████████████████████████| 3.0 MB 2.0 MB/s            \n",
      "\u001b[?25hCollecting blinker>=1.0.0\n",
      "  Using cached blinker-1.5-py2.py3-none-any.whl (12 kB)\n",
      "Requirement already satisfied: typing-extensions>=3.10.0.0 in /Library/Frameworks/Python.framework/Versions/3.10/lib/python3.10/site-packages (from streamlit) (4.4.0)\n",
      "Collecting tzlocal>=1.1\n",
      "  Using cached tzlocal-4.2-py3-none-any.whl (19 kB)\n",
      "Collecting rich>=10.11.0\n",
      "  Downloading rich-13.3.1-py3-none-any.whl (239 kB)\n",
      "     |████████████████████████████████| 239 kB 1.6 MB/s            \n",
      "\u001b[?25hCollecting cachetools>=4.0\n",
      "  Downloading cachetools-5.3.0-py3-none-any.whl (9.3 kB)\n",
      "Requirement already satisfied: packaging>=14.1 in /Users/eemanmajumder/Library/Python/3.10/lib/python/site-packages (from streamlit) (21.3)\n",
      "Collecting pydeck>=0.1.dev5\n",
      "  Downloading pydeck-0.8.0-py2.py3-none-any.whl (4.7 MB)\n",
      "     |████████████████████████████████| 4.7 MB 68 kB/s             \n",
      "\u001b[?25hCollecting jsonschema>=3.0\n",
      "  Downloading jsonschema-4.17.3-py3-none-any.whl (90 kB)\n",
      "     |████████████████████████████████| 90 kB 1.8 MB/s            \n",
      "\u001b[?25hCollecting jinja2\n",
      "  Using cached Jinja2-3.1.2-py3-none-any.whl (133 kB)\n",
      "Requirement already satisfied: entrypoints in /Users/eemanmajumder/Library/Python/3.10/lib/python/site-packages (from altair>=3.2.0->streamlit) (0.4)\n",
      "Collecting toolz\n",
      "  Using cached toolz-0.12.0-py3-none-any.whl (55 kB)\n",
      "Collecting gitdb<5,>=4.0.1\n",
      "  Downloading gitdb-4.0.10-py3-none-any.whl (62 kB)\n",
      "     |████████████████████████████████| 62 kB 1.7 MB/s            \n",
      "\u001b[?25hCollecting zipp>=0.5\n",
      "  Downloading zipp-3.14.0-py3-none-any.whl (6.7 kB)\n",
      "Requirement already satisfied: pyparsing!=3.0.5,>=2.0.2 in /Users/eemanmajumder/Library/Python/3.10/lib/python/site-packages (from packaging>=14.1->streamlit) (3.0.9)\n",
      "Requirement already satisfied: pytz>=2020.1 in /Library/Frameworks/Python.framework/Versions/3.10/lib/python3.10/site-packages (from pandas>=0.25->streamlit) (2022.7)\n",
      "Requirement already satisfied: six>=1.5 in /Users/eemanmajumder/Library/Python/3.10/lib/python/site-packages (from python-dateutil->streamlit) (1.16.0)\n",
      "Requirement already satisfied: charset-normalizer<3,>=2 in /Library/Frameworks/Python.framework/Versions/3.10/lib/python3.10/site-packages (from requests>=2.4->streamlit) (2.1.1)\n",
      "Requirement already satisfied: certifi>=2017.4.17 in /Library/Frameworks/Python.framework/Versions/3.10/lib/python3.10/site-packages (from requests>=2.4->streamlit) (2022.12.7)\n",
      "Requirement already satisfied: idna<4,>=2.5 in /Library/Frameworks/Python.framework/Versions/3.10/lib/python3.10/site-packages (from requests>=2.4->streamlit) (3.4)\n",
      "Requirement already satisfied: urllib3<1.27,>=1.21.1 in /Library/Frameworks/Python.framework/Versions/3.10/lib/python3.10/site-packages (from requests>=2.4->streamlit) (1.26.13)\n",
      "Collecting pygments<3.0.0,>=2.14.0\n",
      "  Downloading Pygments-2.14.0-py3-none-any.whl (1.1 MB)\n",
      "     |████████████████████████████████| 1.1 MB 2.1 MB/s            \n",
      "\u001b[?25hCollecting markdown-it-py<3.0.0,>=2.1.0\n",
      "  Using cached markdown_it_py-2.1.0-py3-none-any.whl (84 kB)\n",
      "Collecting pytz-deprecation-shim\n",
      "  Using cached pytz_deprecation_shim-0.1.0.post0-py2.py3-none-any.whl (15 kB)\n",
      "Requirement already satisfied: decorator>=3.4.0 in /Users/eemanmajumder/Library/Python/3.10/lib/python/site-packages (from validators>=0.2->streamlit) (5.1.1)\n",
      "Collecting smmap<6,>=3.0.1\n",
      "  Using cached smmap-5.0.0-py3-none-any.whl (24 kB)\n",
      "Collecting MarkupSafe>=2.0\n",
      "  Downloading MarkupSafe-2.1.2-cp310-cp310-macosx_10_9_universal2.whl (17 kB)\n",
      "Collecting pyrsistent!=0.17.0,!=0.17.1,!=0.17.2,>=0.14.0\n",
      "  Downloading pyrsistent-0.19.3-cp310-cp310-macosx_10_9_universal2.whl (82 kB)\n",
      "     |████████████████████████████████| 82 kB 989 kB/s            \n",
      "\u001b[?25hCollecting attrs>=17.4.0\n",
      "  Downloading attrs-22.2.0-py3-none-any.whl (60 kB)\n",
      "     |████████████████████████████████| 60 kB 1.5 MB/s            \n",
      "\u001b[?25hCollecting mdurl~=0.1\n",
      "  Using cached mdurl-0.1.2-py3-none-any.whl (10.0 kB)\n",
      "Collecting tzdata\n",
      "  Downloading tzdata-2022.7-py2.py3-none-any.whl (340 kB)\n",
      "     |████████████████████████████████| 340 kB 1.9 MB/s            \n",
      "\u001b[?25hUsing legacy 'setup.py install' for validators, since package 'wheel' is not installed.\n",
      "Installing collected packages: tzdata, smmap, pyrsistent, mdurl, MarkupSafe, attrs, zipp, toolz, pytz-deprecation-shim, pygments, markdown-it-py, jsonschema, jinja2, gitdb, validators, tzlocal, toml, semver, rich, pympler, pydeck, pyarrow, protobuf, pillow, importlib-metadata, gitpython, click, cachetools, blinker, altair, streamlit\n",
      "  Attempting uninstall: pygments\n",
      "    Found existing installation: Pygments 2.13.0\n",
      "    Uninstalling Pygments-2.13.0:\n",
      "      Successfully uninstalled Pygments-2.13.0\n",
      "    Running setup.py install for validators ... \u001b[?25ldone\n",
      "\u001b[?25hSuccessfully installed MarkupSafe-2.1.2 altair-4.2.2 attrs-22.2.0 blinker-1.5 cachetools-5.3.0 click-8.1.3 gitdb-4.0.10 gitpython-3.1.31 importlib-metadata-6.0.0 jinja2-3.1.2 jsonschema-4.17.3 markdown-it-py-2.1.0 mdurl-0.1.2 pillow-9.4.0 protobuf-3.20.3 pyarrow-11.0.0 pydeck-0.8.0 pygments-2.14.0 pympler-1.0.1 pyrsistent-0.19.3 pytz-deprecation-shim-0.1.0.post0 rich-13.3.1 semver-2.13.0 smmap-5.0.0 streamlit-1.18.1 toml-0.10.2 toolz-0.12.0 tzdata-2022.7 tzlocal-4.2 validators-0.20.0 zipp-3.14.0\n",
      "\u001b[33mWARNING: You are using pip version 21.3.1; however, version 23.0.1 is available.\n",
      "You should consider upgrading via the '/Library/Frameworks/Python.framework/Versions/3.10/bin/python3.10 -m pip install --upgrade pip' command.\u001b[0m\n"
     ]
    }
   ],
   "source": [
    "!pip3 install openai\n",
    "!pip3 install streamlit"
   ]
  },
  {
   "cell_type": "code",
   "execution_count": 5,
   "metadata": {},
   "outputs": [],
   "source": [
    "import openai\n",
    "import streamlit as st\n",
    "import pandas as pd\n"
   ]
  },
  {
   "cell_type": "code",
   "execution_count": null,
   "metadata": {},
   "outputs": [],
   "source": [
    "st.markdown(\"<h1 style='text-align: center; '>Career Coupler ㊫</h1>\", unsafe_allow_html=True)\n",
    "st.text_input(\"Enter Your Name\")\n",
    "st.text_input(\"What Region Do You Live In\")\n",
    "df=pd.read_csv(\"/Users/eemanmajumder/code_shit/ML-BASED-CAREER-COUINCLER/why_am_I_pain_hoing_crie_arra_fr/GPT_3_in_my_Ass/skills.csv\")\n",
    "a=df['skills']\n",
    "skill=st.multiselect(\"What are you good at?\",a)\n",
    "st.write('You selected:', skills)"
   ]
  },
  {
   "cell_type": "code",
   "execution_count": 18,
   "metadata": {},
   "outputs": [
    {
     "name": "stdout",
     "output_type": "stream",
     "text": [
      "['sususus', 'bobob']\n"
     ]
    },
    {
     "data": {
      "text/plain": [
       "str"
      ]
     },
     "execution_count": 18,
     "metadata": {},
     "output_type": "execute_result"
    }
   ],
   "source": [
    "l=['sususus','bobob']\n",
    "l=str(l)\n",
    "print(l)\n",
    "type(l)"
   ]
  }
 ],
 "metadata": {
  "kernelspec": {
   "display_name": "Python 3",
   "language": "python",
   "name": "python3"
  },
  "language_info": {
   "codemirror_mode": {
    "name": "ipython",
    "version": 3
   },
   "file_extension": ".py",
   "mimetype": "text/x-python",
   "name": "python",
   "nbconvert_exporter": "python",
   "pygments_lexer": "ipython3",
   "version": "3.10.0"
  },
  "orig_nbformat": 4,
  "vscode": {
   "interpreter": {
    "hash": "aee8b7b246df8f9039afb4144a1f6fd8d2ca17a180786b69acc140d282b71a49"
   }
  }
 },
 "nbformat": 4,
 "nbformat_minor": 2
}
